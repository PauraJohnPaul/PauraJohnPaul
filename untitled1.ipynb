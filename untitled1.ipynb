{
  "nbformat": 4,
  "nbformat_minor": 0,
  "metadata": {
    "colab": {
      "provenance": [],
      "include_colab_link": true
    },
    "kernelspec": {
      "name": "python3",
      "display_name": "Python 3"
    },
    "language_info": {
      "name": "python"
    }
  },
  "cells": [
    {
      "cell_type": "markdown",
      "metadata": {
        "id": "view-in-github",
        "colab_type": "text"
      },
      "source": [
        "<a href=\"https://colab.research.google.com/github/PauraJohnPaul/PauraJohnPaul/blob/main/untitled1.ipynb\" target=\"_parent\"><img src=\"https://colab.research.google.com/assets/colab-badge.svg\" alt=\"Open In Colab\"/></a>"
      ]
    },
    {
      "cell_type": "code",
      "execution_count": null,
      "metadata": {
        "id": "rEmqR7bz5Llx",
        "collapsed": true
      },
      "outputs": [],
      "source": [
        "\n",
        "# Online Python compiler (interpreter) to run Python online.\n",
        "# Write Python 3 code in this online editor and run it.\n",
        "student_scores = {}\n",
        "\n",
        "for i in range(10):\n",
        "    name = input(f\"Enter the name of student {i+1}: \")\n",
        "\n",
        "\n",
        "    scores = []\n",
        "    for j in range(1):\n",
        "        score = int(input(f\"Enter score {j+1} for {name}: \"))\n",
        "        scores.append(score)\n",
        "\n",
        "\n",
        "    student_scores[name] = scores\n",
        "\n",
        "\n",
        "\n",
        "print(\"\\nStudent Averages:\")\n",
        "for name, scores in student_scores.items():\n",
        "    average_score = sum(scores) / len(scores)\n",
        "    print(f\"{name}: {average_score:.2f}\")"
      ]
    }
  ]
}