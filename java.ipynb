{
  "nbformat": 4,
  "nbformat_minor": 0,
  "metadata": {
    "colab": {
      "provenance": [],
      "authorship_tag": "ABX9TyNRnGKFkrEge3+A0K8hs8oC",
      "include_colab_link": true
    },
    "kernelspec": {
      "name": "python3",
      "display_name": "Python 3"
    },
    "language_info": {
      "name": "python"
    }
  },
  "cells": [
    {
      "cell_type": "markdown",
      "metadata": {
        "id": "view-in-github",
        "colab_type": "text"
      },
      "source": [
        "<a href=\"https://colab.research.google.com/github/PauraJohnPaul/PauraJohnPaul/blob/main/java.ipynb\" target=\"_parent\"><img src=\"https://colab.research.google.com/assets/colab-badge.svg\" alt=\"Open In Colab\"/></a>"
      ]
    },
    {
      "cell_type": "code",
      "execution_count": null,
      "metadata": {
        "id": "3COiDsBY5BYw"
      },
      "outputs": [],
      "source": [
        "import java.util.Scanner;\n",
        "\n",
        "public class GradeCalculator {\n",
        "\n",
        "    public static void main(String[] args) {\n",
        "        Scanner scanner = new Scanner(System.in);\n",
        "\n",
        "\n",
        "        System.out.print(\"Enter the number of subjects: \");\n",
        "        int numberOfSubjects = scanner.nextInt();\n",
        "\n",
        "\n",
        "        double[] grades = new double[numberOfSubjects];\n",
        "        int failCount = 0;\n",
        "        double total = 0.0;\n",
        "\n",
        "\n",
        "        for (int i = 0; i < numberOfSubjects; i++) {\n",
        "            System.out.print(\"Enter grade for subject \" + (i + 1) + \": \");\n",
        "            grades[i] = scanner.nextDouble();\n",
        "            total += grades[i];\n",
        "            if (grades[i] < 60) {\n",
        "                failCount++;\n",
        "            }\n",
        "        }\n",
        "\n",
        "        // Calculate average grade\n",
        "        double average = total / numberOfSubjects;\n",
        "\n",
        "\n",
        "        String classification;\n",
        "        if (average >= 90) {\n",
        "            classification = \"Excellent\";\n",
        "        } else if (average >= 80) {\n",
        "            classification = \"Good\";\n",
        "        } else if (average >= 70) {\n",
        "            classification = \"Average\";\n",
        "        } else if (average >= 60) {\n",
        "            classification = \"Pass\";\n",
        "        } else {\n",
        "            classification = \"Fail\";\n",
        "        }\n",
        "\n",
        "\n",
        "        System.out.println(\"Average Grade: \" + average);\n",
        "        System.out.println(\"Performance: \" + classification);\n",
        "        System.out.println(\"Number of subjects failed: \" + failCount);\n",
        "\n",
        "\n",
        "        scanner.close();\n",
        "    }\n",
        "}"
      ]
    }
  ]
}